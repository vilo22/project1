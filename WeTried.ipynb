{
 "cells": [
  {
   "cell_type": "code",
   "execution_count": null,
   "id": "815ac956",
   "metadata": {},
   "outputs": [],
   "source": [
    "import requests as r \n",
    "league = r.get('https://foxes90-prempundit.herokuapp.com/players')\n",
    "print(league)"
   ]
  },
  {
   "cell_type": "code",
   "execution_count": null,
   "id": "c6cd2f83",
   "metadata": {},
   "outputs": [],
   "source": [
    "import requests as r \n",
    "league = r.get('https://foxes90-prempundit.herokuapp.com/players')\n",
    "if league.status_code == 200:\n",
    "    league = league.json()\n",
    "league['Players']\n",
    "# \n",
    "league['Players'][4][\"first_name\"]\n"
   ]
  },
  {
   "cell_type": "code",
   "execution_count": null,
   "id": "380f3c04",
   "metadata": {},
   "outputs": [],
   "source": [
    "class Teams():\n",
    "    \n",
    "    def __init__(self, name = '', last_name= '', injured = '', suspended = '', position= '', team= '',data = ''):\n",
    "        self.name = name\n",
    "        self.last_name = last_name\n",
    "        self.injured = injured\n",
    "        self.suspended = suspended\n",
    "        self.position = position\n",
    "        self.team = team\n",
    "        self.data = data\n",
    "\n",
    "    def call(self):\n",
    "        call_string = 'https://foxes90-prempundit.herokuapp.com/players' + self.name.lower()\n",
    "        response = r.get(call_string)\n",
    "        self.data = response.json()\n",
    "        return self.data\n",
    "    \n",
    "    def get_info(self):\n",
    "        \n",
    "        for i in range(len(data['Players'])):\n",
    "            print(data['Players'][i]['first_name'])\n",
    "\n",
    "#     def get_info(self):\n",
    "#         self.name = self.data['Players'][0][\"first_name\"].upper()\n",
    "#         self.last_name = self.data['Players'][0][\"last_name\"].upper()\n",
    "# #         self.injured = self.injured['Players'][0][\"injured\"]\n",
    "# #         self.suspended = self.suspended['Players'][0][\"suspended\"]\n",
    "# #         self.position = self.position['Players'][0][\"position\"]\n",
    "# #         self.team = self.team['Players'][0][\"team\"]\n",
    "# #         self.data = data['Players'][0][\"last_name\"]\n",
    "    \n",
    "my_Team = Teams()\n",
    "\n",
    "my_Team.call()\n",
    "\n",
    "print(\"Name: \",my_Team.get_info())\n",
    "#       \"\\nInjured: \",my_Team.injured,\n",
    "#       \"\\nSuspended: \",my_Team.suspended,\n",
    "#       \"\\nPosition: \", my_Team.position,\n",
    "#       \"\\nTeam: \", my_Team.team)"
   ]
  },
  {
   "cell_type": "code",
   "execution_count": null,
   "id": "25b78ebf",
   "metadata": {},
   "outputs": [],
   "source": [
    "\n",
    "something= {}\n",
    "\n",
    "data = r.get(f'https://foxes90-prempundit.herokuapp.com/players')\n",
    "if data.status_code == 200:\n",
    "    data = data.json()\n",
    "    for i in range(len(data['Players'])):\n",
    "        print(data['Players'][i]['first_name'])\n"
   ]
  },
  {
   "cell_type": "code",
   "execution_count": null,
   "id": "a6a4154d",
   "metadata": {},
   "outputs": [],
   "source": [
    "data = r.get(f'https://foxes90-prempundit.herokuapp.com/players')\n",
    "if data.status_code == 200:\n",
    "    data = data.json()\n",
    "    for i in range(len(data['Players'])):\n",
    "        print(data['Players'][i]['team'])\n"
   ]
  },
  {
   "cell_type": "code",
   "execution_count": null,
   "id": "bb6c4bd7",
   "metadata": {},
   "outputs": [],
   "source": [
    "liverpool ={}\n",
    "\n",
    "data = r.get(f'https://foxes90-prempundit.herokuapp.com/players')\n",
    "if data.status_code == 200:\n",
    "    data = data.json()\n",
    "    for i in range(len(data['Players'])):\n",
    "        if data['Players'][i]['team'] == 'Liverpool':\n",
    "            player = data['Players'][i]\n",
    "            liverpool.update({'first_name': [player['first_name']], 'last_name': [player['last_name']], 'position': [player['position']]})\n",
    "            \n",
    "print(liverpool)\n"
   ]
  }
 ],
 "metadata": {
  "kernelspec": {
   "display_name": "Python 3 (ipykernel)",
   "language": "python",
   "name": "python3"
  },
  "language_info": {
   "codemirror_mode": {
    "name": "ipython",
    "version": 3
   },
   "file_extension": ".py",
   "mimetype": "text/x-python",
   "name": "python",
   "nbconvert_exporter": "python",
   "pygments_lexer": "ipython3",
   "version": "3.9.7"
  }
 },
 "nbformat": 4,
 "nbformat_minor": 5
}
